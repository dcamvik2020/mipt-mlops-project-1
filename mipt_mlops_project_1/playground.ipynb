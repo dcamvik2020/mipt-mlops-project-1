{
 "cells": [
  {
   "cell_type": "code",
   "execution_count": 1,
   "id": "1894d7ce",
   "metadata": {},
   "outputs": [
    {
     "name": "stdout",
     "output_type": "stream",
     "text": [
      "Train data shape: (404, 14)\n",
      "Test data shape: (102, 14)\n",
      "-----------------------------------------\n",
      "Train: {'MAE': 0.45565, 'MAPE': 0.02361, 'RMSE': 0.34325, 'R2': 0.99605}\n",
      "Test: {'MAE': 0.44434, 'MAPE': 0.02461, 'RMSE': 0.30849, 'R2': 0.99579}\n"
     ]
    }
   ],
   "source": [
    "from utils.data import save_data, load_data\n",
    "from utils.pipeline import train_model, eval_model, get_all_metrics_const_pred\n",
    "\n",
    "# save_data()\n",
    "data = load_data(logging=False)\n",
    "model, data_trn, data_tst = train_model(logging=False)\n",
    "\n",
    "print(\"Train data shape:\", data_trn.shape)\n",
    "print(\"Test data shape:\", data_tst.shape)\n",
    "print(\"-----------------------------------------\")\n",
    "\n",
    "# model, data_trn, data_tst = train_model()\n",
    "scores_trn, scores_tst = eval_model(data_trn, data_tst)\n",
    "\n",
    "if True:\n",
    "    print('Train:', scores_trn)\n",
    "    print('Test:', scores_tst)\n",
    "    \n",
    "#     for metric in ['MAE', 'MAPE', 'RMSE', 'R2']:\n",
    "#         print(\"metric:\", metric)\n",
    "#         print(\"Train:\", scores_trn[metric])\n",
    "#         print(\"Test:\", scores_tst[metric])\n",
    "#         print()\n"
   ]
  },
  {
   "cell_type": "code",
   "execution_count": 2,
   "id": "b5c4d52d",
   "metadata": {},
   "outputs": [
    {
     "name": "stdout",
     "output_type": "stream",
     "text": [
      "Constant pred (mean)\n",
      "Train: {'MAE': 6.80928, 'MAPE': 0.36789, 'RMSE': 86.8734, 'R2': 0.0}\n",
      "Test: {'MAE': 6.25584, 'MAPE': 0.37673, 'RMSE': 75.04543, 'R2': -0.02334}\n",
      "\n",
      "Constant pred (median)\n",
      "Train: {'MAE': 6.68713, 'MAPE': 0.34331, 'RMSE': 88.3051, 'R2': -0.01648}\n",
      "Test: {'MAE': 5.95882, 'MAPE': 0.34396, 'RMSE': 73.34627, 'R2': -0.00017}\n",
      "\n"
     ]
    }
   ],
   "source": [
    "import numpy as np\n",
    "\n",
    "strategy = 'mean'\n",
    "\n",
    "for strategy in ['mean', 'median']:\n",
    "\n",
    "    if strategy == 'mean':\n",
    "        pred_value = np.mean(data_trn[data_trn.columns[-1]])\n",
    "    if strategy == 'median':\n",
    "        pred_value = np.median(data_trn[data_trn.columns[-1]])\n",
    "\n",
    "    print(f'Constant pred ({strategy})')\n",
    "    print('Train:', get_all_metrics_const_pred(\n",
    "            data_trn[data_trn.columns[:-1]],\n",
    "            data_trn[data_trn.columns[-1]], \n",
    "            pred_value\n",
    "        )\n",
    "    )\n",
    "    print('Test:', get_all_metrics_const_pred(\n",
    "            data_tst[data_tst.columns[:-1]],\n",
    "            data_tst[data_tst.columns[-1]],\n",
    "            pred_value\n",
    "        )\n",
    "    )\n",
    "    print()"
   ]
  },
  {
   "cell_type": "code",
   "execution_count": 3,
   "id": "de817cc7",
   "metadata": {},
   "outputs": [],
   "source": [
    "from utils.logging import logging_print"
   ]
  },
  {
   "cell_type": "code",
   "execution_count": 5,
   "id": "5611cecb",
   "metadata": {},
   "outputs": [
    {
     "name": "stdout",
     "output_type": "stream",
     "text": [
      "STEP 1 : load & save data ... OK\n"
     ]
    }
   ],
   "source": [
    "logging_print(logging=True, line=\"STEP 1 : load & save data ... \", end=\"\")\n",
    "print(\"OK\")"
   ]
  },
  {
   "cell_type": "code",
   "execution_count": 8,
   "id": "eaea5449",
   "metadata": {},
   "outputs": [
    {
     "name": "stdout",
     "output_type": "stream",
     "text": [
      "30\r\n"
     ]
    }
   ],
   "source": [
    "! echo \"5*6\" | bc"
   ]
  },
  {
   "cell_type": "code",
   "execution_count": null,
   "id": "44218c35",
   "metadata": {},
   "outputs": [],
   "source": []
  }
 ],
 "metadata": {
  "kernelspec": {
   "display_name": "py_3_11_5",
   "language": "python",
   "name": "py_3_11_5"
  },
  "language_info": {
   "codemirror_mode": {
    "name": "ipython",
    "version": 3
   },
   "file_extension": ".py",
   "mimetype": "text/x-python",
   "name": "python",
   "nbconvert_exporter": "python",
   "pygments_lexer": "ipython3",
   "version": "3.8.8"
  }
 },
 "nbformat": 4,
 "nbformat_minor": 5
}
